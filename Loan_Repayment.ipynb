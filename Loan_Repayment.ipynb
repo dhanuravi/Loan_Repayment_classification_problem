{
  "nbformat": 4,
  "nbformat_minor": 0,
  "metadata": {
    "kernelspec": {
      "display_name": "Python 3",
      "language": "python",
      "name": "python3"
    },
    "language_info": {
      "codemirror_mode": {
        "name": "ipython",
        "version": 3
      },
      "file_extension": ".py",
      "mimetype": "text/x-python",
      "name": "python",
      "nbconvert_exporter": "python",
      "pygments_lexer": "ipython3",
      "version": "3.6.5"
    },
    "colab": {
      "name": "Loan_Repayment.ipynb",
      "provenance": []
    }
  },
  "cells": [
    {
      "cell_type": "code",
      "metadata": {
        "id": "fZK56ITmhjZJ"
      },
      "source": [
        "import pandas as pd\n",
        "import numpy as np\n",
        "import matplotlib.pyplot as plt"
      ],
      "execution_count": null,
      "outputs": []
    },
    {
      "cell_type": "code",
      "metadata": {
        "id": "t4rIRIt6hjZT",
        "outputId": "40ddf64b-2e56-407d-aa23-7ba98829cdac"
      },
      "source": [
        "df = pd.read_csv('data123.csv')\n",
        "df = pd.DataFrame(df)\n",
        "df.head()"
      ],
      "execution_count": null,
      "outputs": [
        {
          "output_type": "execute_result",
          "data": {
            "text/html": [
              "<div>\n",
              "<style scoped>\n",
              "    .dataframe tbody tr th:only-of-type {\n",
              "        vertical-align: middle;\n",
              "    }\n",
              "\n",
              "    .dataframe tbody tr th {\n",
              "        vertical-align: top;\n",
              "    }\n",
              "\n",
              "    .dataframe thead th {\n",
              "        text-align: right;\n",
              "    }\n",
              "</style>\n",
              "<table border=\"1\" class=\"dataframe\">\n",
              "  <thead>\n",
              "    <tr style=\"text-align: right;\">\n",
              "      <th></th>\n",
              "      <th>SK_ID_CURR</th>\n",
              "      <th>TARGET</th>\n",
              "      <th>NAME_CONTRACT_TYPE</th>\n",
              "      <th>CODE_GENDER</th>\n",
              "      <th>FLAG_OWN_CAR</th>\n",
              "      <th>FLAG_OWN_REALTY</th>\n",
              "      <th>CNT_CHILDREN</th>\n",
              "      <th>AMT_INCOME_TOTAL</th>\n",
              "      <th>AMT_CREDIT</th>\n",
              "      <th>AMT_ANNUITY</th>\n",
              "      <th>...</th>\n",
              "      <th>FLAG_DOCUMENT_18</th>\n",
              "      <th>FLAG_DOCUMENT_19</th>\n",
              "      <th>FLAG_DOCUMENT_20</th>\n",
              "      <th>FLAG_DOCUMENT_21</th>\n",
              "      <th>AMT_REQ_CREDIT_BUREAU_HOUR</th>\n",
              "      <th>AMT_REQ_CREDIT_BUREAU_DAY</th>\n",
              "      <th>AMT_REQ_CREDIT_BUREAU_WEEK</th>\n",
              "      <th>AMT_REQ_CREDIT_BUREAU_MON</th>\n",
              "      <th>AMT_REQ_CREDIT_BUREAU_QRT</th>\n",
              "      <th>AMT_REQ_CREDIT_BUREAU_YEAR</th>\n",
              "    </tr>\n",
              "  </thead>\n",
              "  <tbody>\n",
              "    <tr>\n",
              "      <th>0</th>\n",
              "      <td>157890</td>\n",
              "      <td>1</td>\n",
              "      <td>Cash loans</td>\n",
              "      <td>M</td>\n",
              "      <td>Y</td>\n",
              "      <td>Y</td>\n",
              "      <td>0</td>\n",
              "      <td>270000.0</td>\n",
              "      <td>675000.0</td>\n",
              "      <td>32472.0</td>\n",
              "      <td>...</td>\n",
              "      <td>0</td>\n",
              "      <td>0</td>\n",
              "      <td>0</td>\n",
              "      <td>0</td>\n",
              "      <td>0.0</td>\n",
              "      <td>0.0</td>\n",
              "      <td>0.0</td>\n",
              "      <td>0.0</td>\n",
              "      <td>1.0</td>\n",
              "      <td>2.0</td>\n",
              "    </tr>\n",
              "    <tr>\n",
              "      <th>1</th>\n",
              "      <td>157905</td>\n",
              "      <td>0</td>\n",
              "      <td>Revolving loans</td>\n",
              "      <td>F</td>\n",
              "      <td>Y</td>\n",
              "      <td>Y</td>\n",
              "      <td>0</td>\n",
              "      <td>270000.0</td>\n",
              "      <td>810000.0</td>\n",
              "      <td>40500.0</td>\n",
              "      <td>...</td>\n",
              "      <td>0</td>\n",
              "      <td>0</td>\n",
              "      <td>0</td>\n",
              "      <td>0</td>\n",
              "      <td>0.0</td>\n",
              "      <td>0.0</td>\n",
              "      <td>0.0</td>\n",
              "      <td>2.0</td>\n",
              "      <td>0.0</td>\n",
              "      <td>0.0</td>\n",
              "    </tr>\n",
              "    <tr>\n",
              "      <th>2</th>\n",
              "      <td>157914</td>\n",
              "      <td>0</td>\n",
              "      <td>Cash loans</td>\n",
              "      <td>F</td>\n",
              "      <td>Y</td>\n",
              "      <td>Y</td>\n",
              "      <td>0</td>\n",
              "      <td>288000.0</td>\n",
              "      <td>990000.0</td>\n",
              "      <td>32067.0</td>\n",
              "      <td>...</td>\n",
              "      <td>0</td>\n",
              "      <td>0</td>\n",
              "      <td>0</td>\n",
              "      <td>0</td>\n",
              "      <td>0.0</td>\n",
              "      <td>0.0</td>\n",
              "      <td>0.0</td>\n",
              "      <td>0.0</td>\n",
              "      <td>0.0</td>\n",
              "      <td>4.0</td>\n",
              "    </tr>\n",
              "    <tr>\n",
              "      <th>3</th>\n",
              "      <td>157921</td>\n",
              "      <td>0</td>\n",
              "      <td>Cash loans</td>\n",
              "      <td>M</td>\n",
              "      <td>Y</td>\n",
              "      <td>Y</td>\n",
              "      <td>0</td>\n",
              "      <td>198000.0</td>\n",
              "      <td>904500.0</td>\n",
              "      <td>26577.0</td>\n",
              "      <td>...</td>\n",
              "      <td>0</td>\n",
              "      <td>0</td>\n",
              "      <td>0</td>\n",
              "      <td>0</td>\n",
              "      <td>0.0</td>\n",
              "      <td>0.0</td>\n",
              "      <td>0.0</td>\n",
              "      <td>0.0</td>\n",
              "      <td>1.0</td>\n",
              "      <td>2.0</td>\n",
              "    </tr>\n",
              "    <tr>\n",
              "      <th>4</th>\n",
              "      <td>157925</td>\n",
              "      <td>0</td>\n",
              "      <td>Cash loans</td>\n",
              "      <td>M</td>\n",
              "      <td>Y</td>\n",
              "      <td>Y</td>\n",
              "      <td>0</td>\n",
              "      <td>144000.0</td>\n",
              "      <td>381528.0</td>\n",
              "      <td>24534.0</td>\n",
              "      <td>...</td>\n",
              "      <td>0</td>\n",
              "      <td>0</td>\n",
              "      <td>0</td>\n",
              "      <td>0</td>\n",
              "      <td>0.0</td>\n",
              "      <td>0.0</td>\n",
              "      <td>0.0</td>\n",
              "      <td>0.0</td>\n",
              "      <td>0.0</td>\n",
              "      <td>3.0</td>\n",
              "    </tr>\n",
              "  </tbody>\n",
              "</table>\n",
              "<p>5 rows × 119 columns</p>\n",
              "</div>"
            ],
            "text/plain": [
              "   SK_ID_CURR  TARGET NAME_CONTRACT_TYPE CODE_GENDER FLAG_OWN_CAR  \\\n",
              "0      157890       1         Cash loans           M            Y   \n",
              "1      157905       0    Revolving loans           F            Y   \n",
              "2      157914       0         Cash loans           F            Y   \n",
              "3      157921       0         Cash loans           M            Y   \n",
              "4      157925       0         Cash loans           M            Y   \n",
              "\n",
              "  FLAG_OWN_REALTY  CNT_CHILDREN  AMT_INCOME_TOTAL  AMT_CREDIT  AMT_ANNUITY  \\\n",
              "0               Y             0          270000.0    675000.0      32472.0   \n",
              "1               Y             0          270000.0    810000.0      40500.0   \n",
              "2               Y             0          288000.0    990000.0      32067.0   \n",
              "3               Y             0          198000.0    904500.0      26577.0   \n",
              "4               Y             0          144000.0    381528.0      24534.0   \n",
              "\n",
              "              ...              FLAG_DOCUMENT_18 FLAG_DOCUMENT_19  \\\n",
              "0             ...                             0                0   \n",
              "1             ...                             0                0   \n",
              "2             ...                             0                0   \n",
              "3             ...                             0                0   \n",
              "4             ...                             0                0   \n",
              "\n",
              "  FLAG_DOCUMENT_20 FLAG_DOCUMENT_21 AMT_REQ_CREDIT_BUREAU_HOUR  \\\n",
              "0                0                0                        0.0   \n",
              "1                0                0                        0.0   \n",
              "2                0                0                        0.0   \n",
              "3                0                0                        0.0   \n",
              "4                0                0                        0.0   \n",
              "\n",
              "  AMT_REQ_CREDIT_BUREAU_DAY  AMT_REQ_CREDIT_BUREAU_WEEK  \\\n",
              "0                       0.0                         0.0   \n",
              "1                       0.0                         0.0   \n",
              "2                       0.0                         0.0   \n",
              "3                       0.0                         0.0   \n",
              "4                       0.0                         0.0   \n",
              "\n",
              "   AMT_REQ_CREDIT_BUREAU_MON  AMT_REQ_CREDIT_BUREAU_QRT  \\\n",
              "0                        0.0                        1.0   \n",
              "1                        2.0                        0.0   \n",
              "2                        0.0                        0.0   \n",
              "3                        0.0                        1.0   \n",
              "4                        0.0                        0.0   \n",
              "\n",
              "   AMT_REQ_CREDIT_BUREAU_YEAR  \n",
              "0                         2.0  \n",
              "1                         0.0  \n",
              "2                         4.0  \n",
              "3                         2.0  \n",
              "4                         3.0  \n",
              "\n",
              "[5 rows x 119 columns]"
            ]
          },
          "metadata": {
            "tags": []
          },
          "execution_count": 3
        }
      ]
    },
    {
      "cell_type": "markdown",
      "metadata": {
        "id": "P6kJWVMfhjZZ"
      },
      "source": [
        "# Replacing Null Values"
      ]
    },
    {
      "cell_type": "code",
      "metadata": {
        "id": "DtMXKx__hjZb",
        "outputId": "4d829473-bbd3-4390-a131-658e0ec54384"
      },
      "source": [
        "dfnew = df.fillna(df.mean())\n",
        "dfnew.head()"
      ],
      "execution_count": null,
      "outputs": [
        {
          "output_type": "execute_result",
          "data": {
            "text/html": [
              "<div>\n",
              "<style scoped>\n",
              "    .dataframe tbody tr th:only-of-type {\n",
              "        vertical-align: middle;\n",
              "    }\n",
              "\n",
              "    .dataframe tbody tr th {\n",
              "        vertical-align: top;\n",
              "    }\n",
              "\n",
              "    .dataframe thead th {\n",
              "        text-align: right;\n",
              "    }\n",
              "</style>\n",
              "<table border=\"1\" class=\"dataframe\">\n",
              "  <thead>\n",
              "    <tr style=\"text-align: right;\">\n",
              "      <th></th>\n",
              "      <th>SK_ID_CURR</th>\n",
              "      <th>TARGET</th>\n",
              "      <th>NAME_CONTRACT_TYPE</th>\n",
              "      <th>CODE_GENDER</th>\n",
              "      <th>FLAG_OWN_CAR</th>\n",
              "      <th>FLAG_OWN_REALTY</th>\n",
              "      <th>CNT_CHILDREN</th>\n",
              "      <th>AMT_INCOME_TOTAL</th>\n",
              "      <th>AMT_CREDIT</th>\n",
              "      <th>AMT_ANNUITY</th>\n",
              "      <th>...</th>\n",
              "      <th>FLAG_DOCUMENT_18</th>\n",
              "      <th>FLAG_DOCUMENT_19</th>\n",
              "      <th>FLAG_DOCUMENT_20</th>\n",
              "      <th>FLAG_DOCUMENT_21</th>\n",
              "      <th>AMT_REQ_CREDIT_BUREAU_HOUR</th>\n",
              "      <th>AMT_REQ_CREDIT_BUREAU_DAY</th>\n",
              "      <th>AMT_REQ_CREDIT_BUREAU_WEEK</th>\n",
              "      <th>AMT_REQ_CREDIT_BUREAU_MON</th>\n",
              "      <th>AMT_REQ_CREDIT_BUREAU_QRT</th>\n",
              "      <th>AMT_REQ_CREDIT_BUREAU_YEAR</th>\n",
              "    </tr>\n",
              "  </thead>\n",
              "  <tbody>\n",
              "    <tr>\n",
              "      <th>0</th>\n",
              "      <td>157890</td>\n",
              "      <td>1</td>\n",
              "      <td>Cash loans</td>\n",
              "      <td>M</td>\n",
              "      <td>Y</td>\n",
              "      <td>Y</td>\n",
              "      <td>0</td>\n",
              "      <td>270000.0</td>\n",
              "      <td>675000.0</td>\n",
              "      <td>32472.0</td>\n",
              "      <td>...</td>\n",
              "      <td>0</td>\n",
              "      <td>0</td>\n",
              "      <td>0</td>\n",
              "      <td>0</td>\n",
              "      <td>0.0</td>\n",
              "      <td>0.0</td>\n",
              "      <td>0.0</td>\n",
              "      <td>0.0</td>\n",
              "      <td>1.0</td>\n",
              "      <td>2.0</td>\n",
              "    </tr>\n",
              "    <tr>\n",
              "      <th>1</th>\n",
              "      <td>157905</td>\n",
              "      <td>0</td>\n",
              "      <td>Revolving loans</td>\n",
              "      <td>F</td>\n",
              "      <td>Y</td>\n",
              "      <td>Y</td>\n",
              "      <td>0</td>\n",
              "      <td>270000.0</td>\n",
              "      <td>810000.0</td>\n",
              "      <td>40500.0</td>\n",
              "      <td>...</td>\n",
              "      <td>0</td>\n",
              "      <td>0</td>\n",
              "      <td>0</td>\n",
              "      <td>0</td>\n",
              "      <td>0.0</td>\n",
              "      <td>0.0</td>\n",
              "      <td>0.0</td>\n",
              "      <td>2.0</td>\n",
              "      <td>0.0</td>\n",
              "      <td>0.0</td>\n",
              "    </tr>\n",
              "    <tr>\n",
              "      <th>2</th>\n",
              "      <td>157914</td>\n",
              "      <td>0</td>\n",
              "      <td>Cash loans</td>\n",
              "      <td>F</td>\n",
              "      <td>Y</td>\n",
              "      <td>Y</td>\n",
              "      <td>0</td>\n",
              "      <td>288000.0</td>\n",
              "      <td>990000.0</td>\n",
              "      <td>32067.0</td>\n",
              "      <td>...</td>\n",
              "      <td>0</td>\n",
              "      <td>0</td>\n",
              "      <td>0</td>\n",
              "      <td>0</td>\n",
              "      <td>0.0</td>\n",
              "      <td>0.0</td>\n",
              "      <td>0.0</td>\n",
              "      <td>0.0</td>\n",
              "      <td>0.0</td>\n",
              "      <td>4.0</td>\n",
              "    </tr>\n",
              "    <tr>\n",
              "      <th>3</th>\n",
              "      <td>157921</td>\n",
              "      <td>0</td>\n",
              "      <td>Cash loans</td>\n",
              "      <td>M</td>\n",
              "      <td>Y</td>\n",
              "      <td>Y</td>\n",
              "      <td>0</td>\n",
              "      <td>198000.0</td>\n",
              "      <td>904500.0</td>\n",
              "      <td>26577.0</td>\n",
              "      <td>...</td>\n",
              "      <td>0</td>\n",
              "      <td>0</td>\n",
              "      <td>0</td>\n",
              "      <td>0</td>\n",
              "      <td>0.0</td>\n",
              "      <td>0.0</td>\n",
              "      <td>0.0</td>\n",
              "      <td>0.0</td>\n",
              "      <td>1.0</td>\n",
              "      <td>2.0</td>\n",
              "    </tr>\n",
              "    <tr>\n",
              "      <th>4</th>\n",
              "      <td>157925</td>\n",
              "      <td>0</td>\n",
              "      <td>Cash loans</td>\n",
              "      <td>M</td>\n",
              "      <td>Y</td>\n",
              "      <td>Y</td>\n",
              "      <td>0</td>\n",
              "      <td>144000.0</td>\n",
              "      <td>381528.0</td>\n",
              "      <td>24534.0</td>\n",
              "      <td>...</td>\n",
              "      <td>0</td>\n",
              "      <td>0</td>\n",
              "      <td>0</td>\n",
              "      <td>0</td>\n",
              "      <td>0.0</td>\n",
              "      <td>0.0</td>\n",
              "      <td>0.0</td>\n",
              "      <td>0.0</td>\n",
              "      <td>0.0</td>\n",
              "      <td>3.0</td>\n",
              "    </tr>\n",
              "  </tbody>\n",
              "</table>\n",
              "<p>5 rows × 119 columns</p>\n",
              "</div>"
            ],
            "text/plain": [
              "   SK_ID_CURR  TARGET NAME_CONTRACT_TYPE CODE_GENDER FLAG_OWN_CAR  \\\n",
              "0      157890       1         Cash loans           M            Y   \n",
              "1      157905       0    Revolving loans           F            Y   \n",
              "2      157914       0         Cash loans           F            Y   \n",
              "3      157921       0         Cash loans           M            Y   \n",
              "4      157925       0         Cash loans           M            Y   \n",
              "\n",
              "  FLAG_OWN_REALTY  CNT_CHILDREN  AMT_INCOME_TOTAL  AMT_CREDIT  AMT_ANNUITY  \\\n",
              "0               Y             0          270000.0    675000.0      32472.0   \n",
              "1               Y             0          270000.0    810000.0      40500.0   \n",
              "2               Y             0          288000.0    990000.0      32067.0   \n",
              "3               Y             0          198000.0    904500.0      26577.0   \n",
              "4               Y             0          144000.0    381528.0      24534.0   \n",
              "\n",
              "              ...              FLAG_DOCUMENT_18 FLAG_DOCUMENT_19  \\\n",
              "0             ...                             0                0   \n",
              "1             ...                             0                0   \n",
              "2             ...                             0                0   \n",
              "3             ...                             0                0   \n",
              "4             ...                             0                0   \n",
              "\n",
              "  FLAG_DOCUMENT_20 FLAG_DOCUMENT_21 AMT_REQ_CREDIT_BUREAU_HOUR  \\\n",
              "0                0                0                        0.0   \n",
              "1                0                0                        0.0   \n",
              "2                0                0                        0.0   \n",
              "3                0                0                        0.0   \n",
              "4                0                0                        0.0   \n",
              "\n",
              "  AMT_REQ_CREDIT_BUREAU_DAY  AMT_REQ_CREDIT_BUREAU_WEEK  \\\n",
              "0                       0.0                         0.0   \n",
              "1                       0.0                         0.0   \n",
              "2                       0.0                         0.0   \n",
              "3                       0.0                         0.0   \n",
              "4                       0.0                         0.0   \n",
              "\n",
              "   AMT_REQ_CREDIT_BUREAU_MON  AMT_REQ_CREDIT_BUREAU_QRT  \\\n",
              "0                        0.0                        1.0   \n",
              "1                        2.0                        0.0   \n",
              "2                        0.0                        0.0   \n",
              "3                        0.0                        1.0   \n",
              "4                        0.0                        0.0   \n",
              "\n",
              "   AMT_REQ_CREDIT_BUREAU_YEAR  \n",
              "0                         2.0  \n",
              "1                         0.0  \n",
              "2                         4.0  \n",
              "3                         2.0  \n",
              "4                         3.0  \n",
              "\n",
              "[5 rows x 119 columns]"
            ]
          },
          "metadata": {
            "tags": []
          },
          "execution_count": 4
        }
      ]
    },
    {
      "cell_type": "markdown",
      "metadata": {
        "id": "z8E2JbjyhjZd"
      },
      "source": [
        "# Data Wrangling"
      ]
    },
    {
      "cell_type": "code",
      "metadata": {
        "id": "4DpU3osLhjZf"
      },
      "source": [
        "# Import label encoder \n",
        "from sklearn import preprocessing \n",
        "  \n",
        "# label_encoder object knows how to understand word labels. \n",
        "label_encoder = preprocessing.LabelEncoder() \n",
        "  \n",
        "# Encode labels in column 'species'. \n",
        "dfnew['CODE_GENDER'] = label_encoder.fit_transform(dfnew['CODE_GENDER'])\n",
        "dfnew['NAME_CONTRACT_TYPE'] = label_encoder.fit_transform(dfnew['NAME_CONTRACT_TYPE'])\n",
        "dfnew['FLAG_OWN_CAR'] = label_encoder.fit_transform(dfnew['FLAG_OWN_CAR'])\n",
        "dfnew['FLAG_OWN_REALTY'] = label_encoder.fit_transform(dfnew['FLAG_OWN_REALTY'])\n",
        "dfnew['NAME_TYPE_SUITE'] = label_encoder.fit_transform(dfnew['NAME_TYPE_SUITE'])\n",
        "dfnew['NAME_INCOME_TYPE'] = label_encoder.fit_transform(dfnew['NAME_INCOME_TYPE'])\n",
        "dfnew['NAME_EDUCATION_TYPE'] = label_encoder.fit_transform(dfnew['NAME_EDUCATION_TYPE'])\n",
        "dfnew['NAME_FAMILY_STATUS'] = label_encoder.fit_transform(dfnew['NAME_FAMILY_STATUS'])\n",
        "dfnew['NAME_HOUSING_TYPE'] = label_encoder.fit_transform(dfnew['NAME_HOUSING_TYPE'])\n",
        "dfnew['OCCUPATION_TYPE'] = label_encoder.fit_transform(dfnew['OCCUPATION_TYPE'])\n",
        "dfnew['WEEKDAY_APPR_PROCESS_START'] = label_encoder.fit_transform(dfnew['WEEKDAY_APPR_PROCESS_START'])\n",
        "dfnew['ORGANIZATION_TYPE'] = label_encoder.fit_transform(dfnew['ORGANIZATION_TYPE'])\n",
        "dfnew['EMERGENCYSTATE_MODE'] = label_encoder.fit_transform(dfnew['EMERGENCYSTATE_MODE'])"
      ],
      "execution_count": null,
      "outputs": []
    },
    {
      "cell_type": "code",
      "metadata": {
        "id": "kVVrqeaehjZj",
        "outputId": "84c68c0f-15f9-4d68-9a26-55a92eb517b4"
      },
      "source": [
        "dfnew.var()"
      ],
      "execution_count": null,
      "outputs": [
        {
          "output_type": "execute_result",
          "data": {
            "text/plain": [
              "SK_ID_CURR                    7.402270e+09\n",
              "TARGET                        6.153256e-02\n",
              "NAME_CONTRACT_TYPE            9.897189e-02\n",
              "CODE_GENDER                   2.439038e-01\n",
              "FLAG_OWN_CAR                  0.000000e+00\n",
              "FLAG_OWN_REALTY               2.126704e-01\n",
              "CNT_CHILDREN                  5.738127e-01\n",
              "AMT_INCOME_TOTAL              1.761426e+10\n",
              "AMT_CREDIT                    2.054641e+11\n",
              "AMT_ANNUITY                   2.781703e+08\n",
              "AMT_GOODS_PRICE               1.764061e+11\n",
              "NAME_TYPE_SUITE               2.875539e+00\n",
              "NAME_INCOME_TYPE              8.563063e-01\n",
              "NAME_EDUCATION_TYPE           2.038944e+00\n",
              "NAME_FAMILY_STATUS            7.134182e-01\n",
              "NAME_HOUSING_TYPE             8.719220e-01\n",
              "REGION_POPULATION_RELATIVE    2.488710e-04\n",
              "DAYS_BIRTH                    1.235353e+07\n",
              "DAYS_EMPLOYED                 4.802784e+06\n",
              "DAYS_REGISTRATION             1.028973e+07\n",
              "DAYS_ID_PUBLISH               2.298701e+06\n",
              "OWN_CAR_AGE                   1.526003e+02\n",
              "FLAG_MOBIL                    0.000000e+00\n",
              "FLAG_EMP_PHONE                8.945077e-05\n",
              "FLAG_WORK_PHONE               1.621885e-01\n",
              "FLAG_CONT_MOBILE              3.121254e-03\n",
              "FLAG_PHONE                    2.116260e-01\n",
              "FLAG_EMAIL                    7.587723e-02\n",
              "OCCUPATION_TYPE               1.631341e+01\n",
              "CNT_FAM_MEMBERS               8.350377e-01\n",
              "                                  ...     \n",
              "DEF_30_CNT_SOCIAL_CIRCLE      1.734515e-01\n",
              "OBS_60_CNT_SOCIAL_CIRCLE      5.031426e+00\n",
              "DEF_60_CNT_SOCIAL_CIRCLE      1.148699e-01\n",
              "DAYS_LAST_PHONE_CHANGE        7.473400e+05\n",
              "FLAG_DOCUMENT_2               5.963563e-05\n",
              "FLAG_DOCUMENT_3               2.253123e-01\n",
              "FLAG_DOCUMENT_4               0.000000e+00\n",
              "FLAG_DOCUMENT_5               1.207656e-02\n",
              "FLAG_DOCUMENT_6               5.102664e-03\n",
              "FLAG_DOCUMENT_7               2.981070e-04\n",
              "FLAG_DOCUMENT_8               1.608936e-01\n",
              "FLAG_DOCUMENT_9               3.269396e-03\n",
              "FLAG_DOCUMENT_10              5.963563e-05\n",
              "FLAG_DOCUMENT_11              5.132177e-03\n",
              "FLAG_DOCUMENT_12              5.963563e-05\n",
              "FLAG_DOCUMENT_13              1.399266e-02\n",
              "FLAG_DOCUMENT_14              4.423378e-03\n",
              "FLAG_DOCUMENT_15              4.541583e-03\n",
              "FLAG_DOCUMENT_16              1.268707e-02\n",
              "FLAG_DOCUMENT_17              2.086936e-04\n",
              "FLAG_DOCUMENT_18              9.655927e-03\n",
              "FLAG_DOCUMENT_19              5.960362e-04\n",
              "FLAG_DOCUMENT_20              1.042596e-03\n",
              "FLAG_DOCUMENT_21              5.662512e-04\n",
              "AMT_REQ_CREDIT_BUREAU_HOUR    6.432330e-03\n",
              "AMT_REQ_CREDIT_BUREAU_DAY     1.572251e-02\n",
              "AMT_REQ_CREDIT_BUREAU_WEEK    3.963922e-02\n",
              "AMT_REQ_CREDIT_BUREAU_MON     1.084202e+00\n",
              "AMT_REQ_CREDIT_BUREAU_QRT     3.133627e-01\n",
              "AMT_REQ_CREDIT_BUREAU_YEAR    2.785076e+00\n",
              "Length: 119, dtype: float64"
            ]
          },
          "metadata": {
            "tags": []
          },
          "execution_count": 7
        }
      ]
    },
    {
      "cell_type": "code",
      "metadata": {
        "id": "ecYZ5aHNhjZl"
      },
      "source": [
        "target = dfnew['TARGET']\n",
        "dfnew = dfnew.drop(['TARGET','SK_ID_CURR'],axis=1)\n",
        "#dfnew.head()"
      ],
      "execution_count": null,
      "outputs": []
    },
    {
      "cell_type": "markdown",
      "metadata": {
        "id": "qxSHFUM-hjZn"
      },
      "source": [
        "# Normalization of Data"
      ]
    },
    {
      "cell_type": "code",
      "metadata": {
        "id": "C_0QivgNhjZq",
        "outputId": "51c7243e-7928-4aa9-d262-d9a1b711c0bf"
      },
      "source": [
        "from sklearn.preprocessing import StandardScaler\n",
        "ss=StandardScaler()\n",
        "df_scaled= pd.DataFrame(ss.fit_transform(dfnew))\n",
        "df_scaled.head()"
      ],
      "execution_count": null,
      "outputs": [
        {
          "output_type": "execute_result",
          "data": {
            "text/html": [
              "<div>\n",
              "<style scoped>\n",
              "    .dataframe tbody tr th:only-of-type {\n",
              "        vertical-align: middle;\n",
              "    }\n",
              "\n",
              "    .dataframe tbody tr th {\n",
              "        vertical-align: top;\n",
              "    }\n",
              "\n",
              "    .dataframe thead th {\n",
              "        text-align: right;\n",
              "    }\n",
              "</style>\n",
              "<table border=\"1\" class=\"dataframe\">\n",
              "  <thead>\n",
              "    <tr style=\"text-align: right;\">\n",
              "      <th></th>\n",
              "      <th>0</th>\n",
              "      <th>1</th>\n",
              "      <th>2</th>\n",
              "      <th>3</th>\n",
              "      <th>4</th>\n",
              "      <th>5</th>\n",
              "      <th>6</th>\n",
              "      <th>7</th>\n",
              "      <th>8</th>\n",
              "      <th>9</th>\n",
              "      <th>...</th>\n",
              "      <th>107</th>\n",
              "      <th>108</th>\n",
              "      <th>109</th>\n",
              "      <th>110</th>\n",
              "      <th>111</th>\n",
              "      <th>112</th>\n",
              "      <th>113</th>\n",
              "      <th>114</th>\n",
              "      <th>115</th>\n",
              "      <th>116</th>\n",
              "    </tr>\n",
              "  </thead>\n",
              "  <tbody>\n",
              "    <tr>\n",
              "      <th>0</th>\n",
              "      <td>-0.354022</td>\n",
              "      <td>0.854242</td>\n",
              "      <td>0.0</td>\n",
              "      <td>0.665231</td>\n",
              "      <td>-0.709593</td>\n",
              "      <td>0.414055</td>\n",
              "      <td>-0.034587</td>\n",
              "      <td>0.068155</td>\n",
              "      <td>0.115351</td>\n",
              "      <td>0.41878</td>\n",
              "      <td>...</td>\n",
              "      <td>-0.099231</td>\n",
              "      <td>-0.024428</td>\n",
              "      <td>-0.032323</td>\n",
              "      <td>-0.023809</td>\n",
              "      <td>-0.081764</td>\n",
              "      <td>-0.060793</td>\n",
              "      <td>-0.175551</td>\n",
              "      <td>-0.337012</td>\n",
              "      <td>1.338891</td>\n",
              "      <td>0.148639</td>\n",
              "    </tr>\n",
              "    <tr>\n",
              "      <th>1</th>\n",
              "      <td>2.824686</td>\n",
              "      <td>-1.170628</td>\n",
              "      <td>0.0</td>\n",
              "      <td>0.665231</td>\n",
              "      <td>-0.709593</td>\n",
              "      <td>0.414055</td>\n",
              "      <td>0.263246</td>\n",
              "      <td>0.549502</td>\n",
              "      <td>0.436779</td>\n",
              "      <td>0.41878</td>\n",
              "      <td>...</td>\n",
              "      <td>-0.099231</td>\n",
              "      <td>-0.024428</td>\n",
              "      <td>-0.032323</td>\n",
              "      <td>-0.023809</td>\n",
              "      <td>-0.081764</td>\n",
              "      <td>-0.060793</td>\n",
              "      <td>-0.175551</td>\n",
              "      <td>1.583784</td>\n",
              "      <td>-0.447526</td>\n",
              "      <td>-1.049806</td>\n",
              "    </tr>\n",
              "    <tr>\n",
              "      <th>2</th>\n",
              "      <td>-0.354022</td>\n",
              "      <td>-1.170628</td>\n",
              "      <td>0.0</td>\n",
              "      <td>0.665231</td>\n",
              "      <td>-0.709593</td>\n",
              "      <td>0.549682</td>\n",
              "      <td>0.660356</td>\n",
              "      <td>0.043871</td>\n",
              "      <td>0.865349</td>\n",
              "      <td>0.41878</td>\n",
              "      <td>...</td>\n",
              "      <td>-0.099231</td>\n",
              "      <td>-0.024428</td>\n",
              "      <td>-0.032323</td>\n",
              "      <td>-0.023809</td>\n",
              "      <td>-0.081764</td>\n",
              "      <td>-0.060793</td>\n",
              "      <td>-0.175551</td>\n",
              "      <td>-0.337012</td>\n",
              "      <td>-0.447526</td>\n",
              "      <td>1.347083</td>\n",
              "    </tr>\n",
              "    <tr>\n",
              "      <th>3</th>\n",
              "      <td>-0.354022</td>\n",
              "      <td>0.854242</td>\n",
              "      <td>0.0</td>\n",
              "      <td>0.665231</td>\n",
              "      <td>-0.709593</td>\n",
              "      <td>-0.128454</td>\n",
              "      <td>0.471729</td>\n",
              "      <td>-0.285301</td>\n",
              "      <td>0.661778</td>\n",
              "      <td>0.41878</td>\n",
              "      <td>...</td>\n",
              "      <td>-0.099231</td>\n",
              "      <td>-0.024428</td>\n",
              "      <td>-0.032323</td>\n",
              "      <td>-0.023809</td>\n",
              "      <td>-0.081764</td>\n",
              "      <td>-0.060793</td>\n",
              "      <td>-0.175551</td>\n",
              "      <td>-0.337012</td>\n",
              "      <td>1.338891</td>\n",
              "      <td>0.148639</td>\n",
              "    </tr>\n",
              "    <tr>\n",
              "      <th>4</th>\n",
              "      <td>-0.354022</td>\n",
              "      <td>0.854242</td>\n",
              "      <td>0.0</td>\n",
              "      <td>0.665231</td>\n",
              "      <td>-0.709593</td>\n",
              "      <td>-0.535335</td>\n",
              "      <td>-0.682035</td>\n",
              "      <td>-0.407796</td>\n",
              "      <td>-0.741790</td>\n",
              "      <td>0.41878</td>\n",
              "      <td>...</td>\n",
              "      <td>-0.099231</td>\n",
              "      <td>-0.024428</td>\n",
              "      <td>-0.032323</td>\n",
              "      <td>-0.023809</td>\n",
              "      <td>-0.081764</td>\n",
              "      <td>-0.060793</td>\n",
              "      <td>-0.175551</td>\n",
              "      <td>-0.337012</td>\n",
              "      <td>-0.447526</td>\n",
              "      <td>0.747861</td>\n",
              "    </tr>\n",
              "  </tbody>\n",
              "</table>\n",
              "<p>5 rows × 117 columns</p>\n",
              "</div>"
            ],
            "text/plain": [
              "        0         1    2         3         4         5         6         7    \\\n",
              "0 -0.354022  0.854242  0.0  0.665231 -0.709593  0.414055 -0.034587  0.068155   \n",
              "1  2.824686 -1.170628  0.0  0.665231 -0.709593  0.414055  0.263246  0.549502   \n",
              "2 -0.354022 -1.170628  0.0  0.665231 -0.709593  0.549682  0.660356  0.043871   \n",
              "3 -0.354022  0.854242  0.0  0.665231 -0.709593 -0.128454  0.471729 -0.285301   \n",
              "4 -0.354022  0.854242  0.0  0.665231 -0.709593 -0.535335 -0.682035 -0.407796   \n",
              "\n",
              "        8        9      ...          107       108       109       110  \\\n",
              "0  0.115351  0.41878    ...    -0.099231 -0.024428 -0.032323 -0.023809   \n",
              "1  0.436779  0.41878    ...    -0.099231 -0.024428 -0.032323 -0.023809   \n",
              "2  0.865349  0.41878    ...    -0.099231 -0.024428 -0.032323 -0.023809   \n",
              "3  0.661778  0.41878    ...    -0.099231 -0.024428 -0.032323 -0.023809   \n",
              "4 -0.741790  0.41878    ...    -0.099231 -0.024428 -0.032323 -0.023809   \n",
              "\n",
              "        111       112       113       114       115       116  \n",
              "0 -0.081764 -0.060793 -0.175551 -0.337012  1.338891  0.148639  \n",
              "1 -0.081764 -0.060793 -0.175551  1.583784 -0.447526 -1.049806  \n",
              "2 -0.081764 -0.060793 -0.175551 -0.337012 -0.447526  1.347083  \n",
              "3 -0.081764 -0.060793 -0.175551 -0.337012  1.338891  0.148639  \n",
              "4 -0.081764 -0.060793 -0.175551 -0.337012 -0.447526  0.747861  \n",
              "\n",
              "[5 rows x 117 columns]"
            ]
          },
          "metadata": {
            "tags": []
          },
          "execution_count": 9
        }
      ]
    },
    {
      "cell_type": "markdown",
      "metadata": {
        "id": "y8JpXjdvhjZt"
      },
      "source": [
        "# PCA"
      ]
    },
    {
      "cell_type": "code",
      "metadata": {
        "id": "wVraL7mUhjZx"
      },
      "source": [
        "df_data = df_scaled.loc[:,'NAME_CONTRACT_TYPE':'OWN_CAR_AGE']"
      ],
      "execution_count": null,
      "outputs": []
    },
    {
      "cell_type": "code",
      "metadata": {
        "id": "u2ZsWj_dhjZz"
      },
      "source": [
        "from sklearn.model_selection import train_test_split\n",
        "xtrain,xtest,ytrain,ytest = train_test_split(df_data,target,test_size = 0.3, random_state = 10)"
      ],
      "execution_count": null,
      "outputs": []
    },
    {
      "cell_type": "markdown",
      "metadata": {
        "id": "WC65xOHBhjZ0"
      },
      "source": [
        "# Decision Tree Classifier"
      ]
    },
    {
      "cell_type": "code",
      "metadata": {
        "id": "6kdAesG5hjZ1"
      },
      "source": [
        "from sklearn import tree\n",
        "model = tree.DecisionTreeClassifier()"
      ],
      "execution_count": null,
      "outputs": []
    },
    {
      "cell_type": "code",
      "metadata": {
        "id": "cU87_Vz0hjZ1",
        "outputId": "fdab0815-dac8-48bf-a94d-8b84ac6e5545"
      },
      "source": [
        "model.fit(xtrain,ytrain)"
      ],
      "execution_count": null,
      "outputs": [
        {
          "output_type": "execute_result",
          "data": {
            "text/plain": [
              "DecisionTreeClassifier(class_weight=None, criterion='gini', max_depth=None,\n",
              "            max_features=None, max_leaf_nodes=None,\n",
              "            min_impurity_decrease=0.0, min_impurity_split=None,\n",
              "            min_samples_leaf=1, min_samples_split=2,\n",
              "            min_weight_fraction_leaf=0.0, presort=False, random_state=None,\n",
              "            splitter='best')"
            ]
          },
          "metadata": {
            "tags": []
          },
          "execution_count": 16
        }
      ]
    },
    {
      "cell_type": "code",
      "metadata": {
        "id": "4YX3jaZ9hjZ2",
        "outputId": "22c4342a-6d13-415c-b77f-75765c6417b5"
      },
      "source": [
        "ypred = model.predict(xtest)\n",
        "model.score(xtest,ytest)"
      ],
      "execution_count": null,
      "outputs": [
        {
          "output_type": "execute_result",
          "data": {
            "text/plain": [
              "0.8642282079316171"
            ]
          },
          "metadata": {
            "tags": []
          },
          "execution_count": 17
        }
      ]
    },
    {
      "cell_type": "code",
      "metadata": {
        "id": "RW8gch3phjZ2",
        "outputId": "c7f3b697-5515-4f8f-d548-3aaa603663bb"
      },
      "source": [
        "from sklearn.metrics import confusion_matrix\n",
        "import seaborn as sns\n",
        "cm = confusion_matrix(ytest,ypred)\n",
        "cm"
      ],
      "execution_count": null,
      "outputs": [
        {
          "output_type": "execute_result",
          "data": {
            "text/plain": [
              "array([[8632,  767],\n",
              "       [ 599,   63]], dtype=int64)"
            ]
          },
          "metadata": {
            "tags": []
          },
          "execution_count": 18
        }
      ]
    },
    {
      "cell_type": "code",
      "metadata": {
        "id": "vi8ghAllhjZ3",
        "outputId": "862556ee-8fe1-4672-de75-51e1392ab160"
      },
      "source": [
        "sns.heatmap(cm,annot=True)\n",
        "plt.xlabel('predicted')\n",
        "plt.ylabel('truth')"
      ],
      "execution_count": null,
      "outputs": [
        {
          "output_type": "execute_result",
          "data": {
            "text/plain": [
              "Text(33,0.5,'truth')"
            ]
          },
          "metadata": {
            "tags": []
          },
          "execution_count": 19
        },
        {
          "output_type": "display_data",
          "data": {
            "image/png": "[encoded data removed]",
            "text/plain": [
              "<Figure size 432x288 with 2 Axes>"
            ]
          },
          "metadata": {
            "tags": []
          }
        }
      ]
    },
    {
      "cell_type": "markdown",
      "metadata": {
        "id": "DE1rBjf8hjZ4"
      },
      "source": [
        "# KNN Classifier"
      ]
    },
    {
      "cell_type": "code",
      "metadata": {
        "id": "cWETIHgLhjZ5"
      },
      "source": [
        "from sklearn.neighbors import KNeighborsClassifier"
      ],
      "execution_count": null,
      "outputs": []
    },
    {
      "cell_type": "code",
      "metadata": {
        "id": "dttTU045hjZ5"
      },
      "source": [
        "neighbors = np.arange(1, 9)\n",
        "train_accuracy = np.empty(len(neighbors))\n",
        "test_accuracy = np.empty(len(neighbors))"
      ],
      "execution_count": null,
      "outputs": []
    },
    {
      "cell_type": "code",
      "metadata": {
        "id": "PXwcXWBohjZ6",
        "outputId": "dacaec73-b5c4-4b2a-e3b7-0b6ecbb3ee8d"
      },
      "source": [
        "for k in neighbors:\n",
        "    knn = KNeighborsClassifier(n_neighbors=k)\n",
        "    knn.fit(xtrain, ytrain)\n",
        "    \n",
        "    train_accuracy[k-1] = knn.score(xtrain, ytrain)\n",
        "\n",
        "    test_accuracy[k-1] = knn.score(xtest, ytest)\n",
        "    \n",
        "plt.title('k-NN: Varying Number of Neighbors')\n",
        "plt.plot(neighbors, test_accuracy, label = 'Testing Accuracy')\n",
        "plt.plot(neighbors, train_accuracy, label = 'Training Accuracy')\n",
        "plt.legend()\n",
        "plt.xlabel('Number of Neighbors')\n",
        "plt.ylabel('Accuracy')\n",
        "plt.show()"
      ],
      "execution_count": null,
      "outputs": [
        {
          "output_type": "display_data",
          "data": {
            "image/png": "[encoded data removed]",
            "text/plain": [
              "<Figure size 432x288 with 1 Axes>"
            ]
          },
          "metadata": {
            "tags": []
          }
        }
      ]
    },
    {
      "cell_type": "code",
      "metadata": {
        "id": "5s6IuSYVhjZ7",
        "outputId": "87c720ed-44b3-40ab-a265-fb518e286093"
      },
      "source": [
        "knn = KNeighborsClassifier(n_neighbors = 8)\n",
        "knn.fit(xtrain,ytrain)"
      ],
      "execution_count": null,
      "outputs": [
        {
          "output_type": "execute_result",
          "data": {
            "text/plain": [
              "KNeighborsClassifier(algorithm='auto', leaf_size=30, metric='minkowski',\n",
              "           metric_params=None, n_jobs=1, n_neighbors=8, p=2,\n",
              "           weights='uniform')"
            ]
          },
          "metadata": {
            "tags": []
          },
          "execution_count": 24
        }
      ]
    },
    {
      "cell_type": "code",
      "metadata": {
        "id": "MqvjL9UEhjZ7",
        "outputId": "7409bb74-f656-46a2-b3f3-9459aa1a57bc"
      },
      "source": [
        "knn.score(xtest,ytest)"
      ],
      "execution_count": null,
      "outputs": [
        {
          "output_type": "execute_result",
          "data": {
            "text/plain": [
              "0.9338037968392804"
            ]
          },
          "metadata": {
            "tags": []
          },
          "execution_count": 25
        }
      ]
    },
    {
      "cell_type": "code",
      "metadata": {
        "id": "VDAvU55rhjZ8"
      },
      "source": [
        ""
      ],
      "execution_count": null,
      "outputs": []
    }
  ]
}